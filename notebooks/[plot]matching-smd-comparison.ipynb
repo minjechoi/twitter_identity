{
 "cells": [
  {
   "cell_type": "code",
   "execution_count": 5,
   "id": "8ddb5b2c-83e2-4fe6-a014-90c1023f44ff",
   "metadata": {},
   "outputs": [],
   "source": [
    "import os\n",
    "from os.path import join\n",
    "\n",
    "%matplotlib inline\n",
    "import pandas as pd\n",
    "import numpy as np\n",
    "import matplotlib.pyplot as plt"
   ]
  },
  {
   "cell_type": "markdown",
   "id": "416504c1-5c27-401d-be10-40afd6a7ed2f",
   "metadata": {},
   "source": [
    "## When including the identity scores of past tweets aggregaged at weekly level"
   ]
  },
  {
   "cell_type": "code",
   "execution_count": 19,
   "id": "ef72eed5-c76a-4992-9ade-c40bf94261d6",
   "metadata": {},
   "outputs": [
    {
     "data": {
      "image/png": "[encoded data removed]",
      "text/plain": [
       "<Figure size 230x200 with 1 Axes>"
      ]
     },
     "metadata": {},
     "output_type": "display_data"
    }
   ],
   "source": [
    "# plot smd differences\n",
    "df2=pd.DataFrame()\n",
    "base_dir='/shared/3/projects/bio-change/data/interim/propensity-score-matching/all-matches/propensity/with_tweet_identity'\n",
    "for file in os.listdir(base_dir):\n",
    "    if file.startswith('smd.'):\n",
    "        df=pd.read_csv(join(base_dir,file),sep='\\t')\n",
    "        df2=pd.concat([df2,df],axis=0)\n",
    "\n",
    "plt.figure(figsize=(2.3,2))\n",
    "bins = np.linspace(0.0, 1.0, 100)\n",
    "x=df2[df2.setting=='original'].smd\n",
    "y=df2[df2.setting=='matched'].smd\n",
    "plt.hist(x, bins, alpha=0.5, label='original')\n",
    "plt.hist(y, bins, alpha=0.5, label='matched')\n",
    "plt.axvline(0.1,color='red')\n",
    "plt.legend(loc='upper right')\n",
    "plt.tight_layout()\n",
    "plt.show()"
   ]
  },
  {
   "cell_type": "markdown",
   "id": "3bbf6859-a726-45c5-a1cb-5fb3cac06026",
   "metadata": {},
   "source": [
    "## When excluding the identity scores of past tweets aggregaged at weekly level"
   ]
  },
  {
   "cell_type": "code",
   "execution_count": 20,
   "id": "6295ed66-e474-4822-ab5e-1fc071fdd0eb",
   "metadata": {},
   "outputs": [
    {
     "data": {
      "image/png": "[encoded data removed]",
      "text/plain": [
       "<Figure size 230x200 with 1 Axes>"
      ]
     },
     "metadata": {},
     "output_type": "display_data"
    }
   ],
   "source": [
    "# plot smd differences\n",
    "df2=pd.DataFrame()\n",
    "base_dir='/shared/3/projects/bio-change/data/interim/propensity-score-matching/all-matches/propensity/without_tweet_identity'\n",
    "for file in os.listdir(base_dir):\n",
    "    if file.startswith('smd.'):\n",
    "        df=pd.read_csv(join(base_dir,file),sep='\\t')\n",
    "        df2=pd.concat([df2,df],axis=0)\n",
    "\n",
    "plt.figure(figsize=(2.3,2))\n",
    "bins = np.linspace(0.0, 1.0, 100)\n",
    "x=df2[df2.setting=='original'].smd\n",
    "y=df2[df2.setting=='matched'].smd\n",
    "plt.hist(x, bins, alpha=0.5, label='original')\n",
    "plt.hist(y, bins, alpha=0.5, label='matched')\n",
    "plt.axvline(0.1,color='red')\n",
    "plt.legend(loc='upper right')\n",
    "plt.tight_layout()\n",
    "plt.show()"
   ]
  },
  {
   "cell_type": "markdown",
   "id": "2b47944c-abf3-41ae-99e7-e8cfe79d6bbe",
   "metadata": {},
   "source": [
    "For both cases, the matching process significantly reduces the standard mean deviation distances between treated and control samples"
   ]
  },
  {
   "cell_type": "code",
   "execution_count": null,
   "id": "44882fe8-baf3-4097-b8b0-2f32837491fb",
   "metadata": {},
   "outputs": [],
   "source": []
  }
 ],
 "metadata": {
  "kernelspec": {
   "display_name": "py311",
   "language": "python",
   "name": "py311"
  },
  "language_info": {
   "codemirror_mode": {
    "name": "ipython",
    "version": 3
   },
   "file_extension": ".py",
   "mimetype": "text/x-python",
   "name": "python",
   "nbconvert_exporter": "python",
   "pygments_lexer": "ipython3",
   "version": "3.11.0"
  }
 },
 "nbformat": 4,
 "nbformat_minor": 5
}
